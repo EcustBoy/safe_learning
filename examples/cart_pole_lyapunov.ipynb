{
 "cells": [
  {
   "cell_type": "markdown",
   "metadata": {},
   "source": [
    "# Stability Verification for a Cart-Pole System"
   ]
  },
  {
   "cell_type": "code",
   "execution_count": null,
   "metadata": {},
   "outputs": [],
   "source": [
    "from __future__ import division, print_function\n",
    "\n",
    "import numpy as np\n",
    "import tensorflow as tf\n",
    "import gpflow\n",
    "from scipy.linalg import block_diag\n",
    "import matplotlib.pyplot as plt\n",
    "from mpl_toolkits.mplot3d import Axes3D\n",
    "%matplotlib notebook\n",
    "\n",
    "import safe_learning\n",
    "from utilities import uniform_state_sampler, compute_closedloop_response, CartPole, get_max_parameter_change\n",
    "\n",
    "try:\n",
    "    from tqdm import tqdm\n",
    "except ImportError:\n",
    "    tqdm = lambda x: x\n",
    "    \n",
    "np_dtype = safe_learning.config.np_dtype\n",
    "tf_dtype = safe_learning.config.dtype\n",
    "\n",
    "try:\n",
    "    session.close()\n",
    "except NameError:\n",
    "    pass\n",
    "session = tf.InteractiveSession()\n",
    "initialized = False"
   ]
  },
  {
   "cell_type": "markdown",
   "metadata": {},
   "source": [
    "## Dynamics"
   ]
  },
  {
   "cell_type": "code",
   "execution_count": null,
   "metadata": {},
   "outputs": [],
   "source": [
    "# Some constants\n",
    "dt = 0.01   # sampling time\n",
    "g = 9.81    # gravity\n",
    "\n",
    "# True system parameters\n",
    "m = 0.1     # pendulum mass\n",
    "M = 5.      # cart mass\n",
    "L = 0.5     # pole length\n",
    "\n",
    "# State and action normalizers\n",
    "x_max = 10\n",
    "theta_max = np.deg2rad(10)\n",
    "x_dot_max = 5\n",
    "theta_dot_max = np.deg2rad(5)\n",
    "u_max = 5*g*m*theta_max\n",
    "\n",
    "state_norm = (x_max, theta_max, x_dot_max, theta_dot_max)\n",
    "input_norm = (u_max,)\n",
    "\n",
    "# Define true system and dynamics\n",
    "true_cart_pole = CartPole(m, M, L, dt, [state_norm, input_norm])\n",
    "A_true, B_true = true_cart_pole.linearize()\n",
    "true_dynamics = safe_learning.LinearSystem((A_true, B_true), name='true_dynamics')\n",
    "\n",
    "# \"Wrong\" system\n",
    "m = 0.2     # pendulum mass\n",
    "M = 4.5     # cart mass\n",
    "L = 0.5     # pole length\n",
    "cart_pole = CartPole(m, M, L, dt, [state_norm, input_norm])\n",
    "A, B = cart_pole.linearize()\n",
    "mean_dynamics = safe_learning.LinearSystem((A, B), name='mean_dynamics')"
   ]
  },
  {
   "cell_type": "markdown",
   "metadata": {},
   "source": [
    "## Rewards"
   ]
  },
  {
   "cell_type": "code",
   "execution_count": null,
   "metadata": {},
   "outputs": [],
   "source": [
    "# State cost matrix\n",
    "Q = np.diag([1., 1., 50., 1.])\n",
    "\n",
    "# Action cost matrix\n",
    "R = np.identity(cart_pole.input_dim)\n",
    "\n",
    "# Quadratic reward (-cost) function\n",
    "reward_function = safe_learning.QuadraticFunction(block_diag(-Q, -R), name='reward_function')"
   ]
  },
  {
   "cell_type": "markdown",
   "metadata": {},
   "source": [
    "## Discretization"
   ]
  },
  {
   "cell_type": "code",
   "execution_count": null,
   "metadata": {},
   "outputs": [],
   "source": [
    "state_limits = [[-1., 1.]]*cart_pole.state_dim\n",
    "num_states = [71,]*cart_pole.state_dim\n",
    "state_discretization = safe_learning.GridWorld(state_limits, num_states)\n",
    "\n",
    "# Discretization constant\n",
    "tau = np.min(state_discretization.unit_maxes)\n",
    "\n",
    "print('Grid size: {0}'.format(state_discretization.nindex))\n",
    "print('Discretization constant: {0}'.format(tau))"
   ]
  },
  {
   "cell_type": "markdown",
   "metadata": {},
   "source": [
    "## GP Model"
   ]
  },
  {
   "cell_type": "code",
   "execution_count": null,
   "metadata": {},
   "outputs": [],
   "source": [
    "m_true = np.hstack((A_true, B_true))\n",
    "m = np.hstack((A, B))\n",
    "variances = (m_true - m) ** 2\n",
    "np.clip(variances, 1e-5, None, out=variances)\n",
    "\n",
    "noise_var = 0.001 ** 2\n",
    "\n",
    "# Kernels\n",
    "full_dim = cart_pole.state_dim + cart_pole.input_dim\n",
    "\n",
    "kernel_x = (gpflow.kernels.Linear(full_dim, variance=variances[0, :], ARD=True)\n",
    "            + gpflow.kernels.Matern32(1, lengthscales=1, active_dims=[0])\n",
    "            * gpflow.kernels.Linear(1, variance=variances[0, 0]))\n",
    "\n",
    "kernel_theta = (gpflow.kernels.Linear(full_dim, variance=variances[1, :], ARD=True)\n",
    "                + gpflow.kernels.Matern32(1, lengthscales=1, active_dims=[1])\n",
    "                * gpflow.kernels.Linear(1, variance=variances[1, 1]))\n",
    "\n",
    "kernel_x_dot = (gpflow.kernels.Linear(full_dim, variance=variances[2, :], ARD=True)\n",
    "                + gpflow.kernels.Matern32(1, lengthscales=1, active_dims=[0])\n",
    "                * gpflow.kernels.Linear(1, variance=variances[2, 2]))\n",
    "\n",
    "kernel_theta_dot = (gpflow.kernels.Linear(full_dim, variance=variances[3, :], ARD=True)\n",
    "                    + gpflow.kernels.Matern32(1, lengthscales=1, active_dims=[1])\n",
    "                    * gpflow.kernels.Linear(1, variance=variances[3, 3]))\n",
    "\n",
    "# Mean dynamics\n",
    "mean_function_x = safe_learning.LinearSystem((A[[0], :], B[[0], :]), name='mean_dynamics_x')\n",
    "mean_function_theta = safe_learning.LinearSystem((A[[1], :], B[[1], :]), name='mean_dynamics_theta')\n",
    "mean_function_x_dot = safe_learning.LinearSystem((A[[2], :], B[[2], :]), name='mean_dynamics_x_dot')\n",
    "mean_function_theta_dot = safe_learning.LinearSystem((A[[3], :], B[[3], :]), name='mean_dynamics_theta_dot')\n",
    "\n",
    "# Define a GP model over the dynamics\n",
    "gp_x = gpflow.gpr.GPR(np.empty((0, full_dim), dtype=np_dtype), np.empty((0, 1), dtype=np_dtype),\n",
    "                      kernel_x, mean_function=mean_function_x)\n",
    "gp_x.likelihood.variance = noise_var\n",
    "\n",
    "\n",
    "gp_theta = gpflow.gpr.GPR(np.empty((0, full_dim), dtype=np_dtype), np.empty((0, 1), dtype=np_dtype),\n",
    "                          kernel_theta, mean_function=mean_function_theta)\n",
    "gp_theta.likelihood.variance = noise_var\n",
    "\n",
    "\n",
    "gp_x_dot = gpflow.gpr.GPR(np.empty((0, full_dim), dtype=np_dtype), np.empty((0, 1), dtype=np_dtype),\n",
    "                          kernel_x_dot, mean_function=mean_function_x_dot)\n",
    "gp_x_dot.likelihood.variance = noise_var\n",
    "\n",
    "\n",
    "gp_theta_dot = gpflow.gpr.GPR(np.empty((0, full_dim), dtype=np_dtype), np.empty((0, 1), dtype=np_dtype),\n",
    "                              kernel_theta_dot, mean_function=mean_function_theta_dot)\n",
    "gp_theta_dot.likelihood.variance = noise_var\n",
    "\n",
    "\n",
    "gp_x_fun = safe_learning.GaussianProcess(gp_x)\n",
    "gp_theta_fun = safe_learning.GaussianProcess(gp_theta)\n",
    "gp_x_dot_fun = safe_learning.GaussianProcess(gp_x_dot)\n",
    "gp_theta_dot_fun = safe_learning.GaussianProcess(gp_theta_dot)\n",
    "\n",
    "dynamics = safe_learning.FunctionStack((gp_x_fun, gp_theta_fun, gp_x_dot_fun, gp_theta_dot_fun))"
   ]
  },
  {
   "cell_type": "markdown",
   "metadata": {},
   "source": [
    "## Lyapunov Function"
   ]
  },
  {
   "cell_type": "code",
   "execution_count": null,
   "metadata": {},
   "outputs": [],
   "source": [
    "# Fix policy to the LQR solution for the \"wrong\" system\n",
    "K, P = safe_learning.utilities.dlqr(A, B, Q, R)\n",
    "policy = safe_learning.LinearSystem(-K, name='policy')\n",
    "policy = safe_learning.Saturation(policy, -1, 1)\n",
    "\n",
    "states = tf.placeholder(tf_dtype, shape=[None, cart_pole.state_dim], name='states')\n",
    "\n",
    "# Define the Lyapunov function corresponding to the known policy\n",
    "lyapunov_function = safe_learning.QuadraticFunction(P)\n",
    "\n",
    "# Lipschitz constants\n",
    "L_pol = np.linalg.norm(-K, 1)\n",
    "L_dyn = np.linalg.norm(A_true, 1) + np.linalg.norm(B_true, 1)*L_pol\n",
    "\n",
    "# Approximate Lipschitz constant for value function over [-1, 1]**d by sampling on the boundaries\n",
    "# num_boundaries = int(2*cart_pole.state_dim)\n",
    "# samples_per_boundary = int(1e3)\n",
    "# test_set = np.random.uniform(-1., 1., (num_boundaries*samples_per_boundary, cart_pole.state_dim))\n",
    "# for i in range(cart_pole.state_dim):\n",
    "#     start_idx = (2*i)*samples_per_boundary\n",
    "#     mid_idx = (2*i + 1)*samples_per_boundary\n",
    "#     end_idx = (2*i + 2)*samples_per_boundary\n",
    "#     test_set[start_idx:mid_idx, i] = -1.\n",
    "#     test_set[mid_idx:end_idx, i] = 1.\n",
    "# boundary_values = session.run(lyapunov_function(states), {states: test_set})\n",
    "# L_V = 1.05*np.max(np.abs(boundary_values))\n",
    "\n",
    "L_V = 1.05*np.max(np.abs(session.run(lyapunov_function(states), {states: state_discretization.all_points})))\n",
    "\n",
    "print('Lyapunov function Lipschitz constant approx.: {0}'.format(L_V))\n",
    "\n",
    "lyapunov = safe_learning.Lyapunov(state_discretization, lyapunov_function, dynamics, L_dyn, L_V, tau, policy)"
   ]
  },
  {
   "cell_type": "markdown",
   "metadata": {},
   "source": [
    "## Safety"
   ]
  },
  {
   "cell_type": "code",
   "execution_count": null,
   "metadata": {},
   "outputs": [],
   "source": [
    "def plot_safe_set(lyapunov, show=True):\n",
    "    \"\"\"Plot the safe set for a given Lyapunov function.\"\"\"\n",
    "    pos_set = np.logical_and(state_discretization.all_points[:, 2] == 0, state_discretization.all_points[:, 3] == 0)\n",
    "    vel_set = np.logical_and(state_discretization.all_points[:, 0] == 0, state_discretization.all_points[:, 1] == 0)\n",
    "    safe_pos = lyapunov.safe_set[pos_set].reshape(num_states[:2])\n",
    "    safe_vel = lyapunov.safe_set[vel_set].reshape(num_states[2:])\n",
    "    \n",
    "    fig = plt.figure(figsize=(10, 5), dpi=100)\n",
    "    fig.suptitle('Safe Set')\n",
    "    fig.subplots_adjust(wspace=0.5, hspace=0.5)\n",
    "\n",
    "    # Safe positions set, with zero velocities\n",
    "    ax = fig.add_subplot(121)\n",
    "    ax.set_title(r'$\\dot{x} = \\dot{\\theta} = 0$')\n",
    "    ax.set_xlabel(r'$x$')\n",
    "    ax.set_ylabel(r'$\\theta$')\n",
    "    im = ax.imshow(safe_pos.T,\n",
    "                   origin='lower',\n",
    "                   extent=lyapunov.discretization.limits[:2, :].ravel(),\n",
    "                   vmin=0,\n",
    "                   vmax=1)\n",
    "    fig.colorbar(im)\n",
    "    \n",
    "    # Safe velocities set, with zero positions\n",
    "    ax = fig.add_subplot(122)\n",
    "    ax.set_title(r'$x = \\theta = 0$')\n",
    "    ax.set_xlabel(r'$\\dot{x}$')\n",
    "    ax.set_ylabel(r'$\\dot{\\theta}$')\n",
    "    im = ax.imshow(safe_vel.T,\n",
    "                   origin='lower',\n",
    "                   extent=lyapunov.discretization.limits[2:, :].ravel(),\n",
    "                   vmin=0,\n",
    "                   vmax=1)\n",
    "    fig.colorbar(im)\n",
    "    \n",
    "#     if isinstance(lyapunov.dynamics, safe_learning.UncertainFunction):\n",
    "#         X = lyapunov.dynamics.functions[0].X\n",
    "#         plt.plot(X[:, 0], X[:, 1], 'rx')\n",
    "    \n",
    "    if show:\n",
    "        plt.show()\n",
    "\n",
    "# Set initial safe set (level set) based on Lyapunov function\n",
    "values = session.run(lyapunov_function(states), {states: state_discretization.all_points})\n",
    "cutoff = 0.005 * np.max(values)\n",
    "lyapunov.initial_safe_set = np.squeeze(values, axis=1) <= cutoff\n",
    "lyapunov.update_safe_set()\n",
    "\n",
    "plot_safe_set(lyapunov)"
   ]
  },
  {
   "cell_type": "markdown",
   "metadata": {},
   "source": [
    "## Online Learning"
   ]
  },
  {
   "cell_type": "code",
   "execution_count": null,
   "metadata": {},
   "outputs": [],
   "source": [
    "\n",
    "\n",
    "\n"
   ]
  },
  {
   "cell_type": "code",
   "execution_count": null,
   "metadata": {},
   "outputs": [],
   "source": []
  },
  {
   "cell_type": "code",
   "execution_count": null,
   "metadata": {},
   "outputs": [],
   "source": []
  }
 ],
 "metadata": {
  "kernelspec": {
   "display_name": "Python 3",
   "language": "python",
   "name": "python3"
  },
  "language_info": {
   "codemirror_mode": {
    "name": "ipython",
    "version": 3
   },
   "file_extension": ".py",
   "mimetype": "text/x-python",
   "name": "python",
   "nbconvert_exporter": "python",
   "pygments_lexer": "ipython3",
   "version": "3.6.3"
  }
 },
 "nbformat": 4,
 "nbformat_minor": 2
}
