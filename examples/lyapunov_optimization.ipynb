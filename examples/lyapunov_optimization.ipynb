{
 "cells": [
  {
   "cell_type": "markdown",
   "metadata": {},
   "source": [
    "# Optimizing for a Lyapunov Function"
   ]
  },
  {
   "cell_type": "code",
   "execution_count": null,
   "metadata": {},
   "outputs": [],
   "source": [
    "%%javascript\n",
    "IPython.OutputArea.prototype._should_scroll = function(lines) {\n",
    "    return false;\n",
    "}"
   ]
  },
  {
   "cell_type": "code",
   "execution_count": null,
   "metadata": {},
   "outputs": [],
   "source": [
    "from __future__ import division, print_function\n",
    "\n",
    "import numpy as np\n",
    "import tensorflow as tf\n",
    "import gpflow\n",
    "from scipy.linalg import block_diag\n",
    "import cvxpy as cvx\n",
    "import mosek\n",
    "import matplotlib.pyplot as plt\n",
    "%matplotlib inline\n",
    "\n",
    "import safe_learning\n",
    "from utilities import InvertedPendulum, debug\n",
    "\n",
    "try:\n",
    "    from tqdm import tqdm\n",
    "except ImportError:\n",
    "    tqdm = lambda x: x\n",
    "    \n",
    "np_dtype = safe_learning.config.np_dtype\n",
    "tf_dtype = safe_learning.config.dtype\n",
    "\n",
    "try:\n",
    "    session.close()\n",
    "except NameError:\n",
    "    pass\n",
    "session = tf.InteractiveSession()\n",
    "\n",
    "# TODO debug flags ***************************************#\n",
    "\n",
    "import pandas\n",
    "pandas.options.display.float_format = '{:,.4f}'.format\n",
    "pandas.set_option('expand_frame_repr', False)\n",
    "np.set_printoptions(precision=4)\n",
    "\n",
    "# Saturate the action so that it lies in [-1, 1]\n",
    "SATURATE = True\n",
    "\n",
    "# Use the true physical parameters in the GP model\n",
    "USE_TRUE_PARAMETERS = False\n",
    "\n",
    "# Use the linearized discrete-time model as the true underlying dynamics\n",
    "USE_LINEAR_DYNAMICS = False\n",
    "\n",
    "# Use a threshold of zero when checking for stability\n",
    "USE_ZERO_THRESHOLD = True\n",
    "\n",
    "#\n",
    "USE_LIPSCHITZ_SCALING = True\n",
    "\n",
    "#******************************************************#\n"
   ]
  },
  {
   "cell_type": "markdown",
   "metadata": {},
   "source": [
    "## Dynamics"
   ]
  },
  {
   "cell_type": "code",
   "execution_count": null,
   "metadata": {},
   "outputs": [],
   "source": [
    "# Constants\n",
    "dt = 0.01   # sampling time\n",
    "g = 9.81    # gravity\n",
    "\n",
    "# True system parameters\n",
    "m = 0.15    # pendulum mass\n",
    "L = 0.5     # pole length\n",
    "b = 0.1     # rotational friction\n",
    "\n",
    "# State and action normalizers\n",
    "theta_max = np.deg2rad(30)\n",
    "omega_max = np.sqrt(g / L)\n",
    "u_max = g * m * L * np.sin(theta_max)\n",
    "\n",
    "state_norm = (theta_max, omega_max)\n",
    "action_norm = (u_max, )\n",
    "\n",
    "# Constraints for initial 'safe' states\n",
    "theta_safe = np.deg2rad(8)\n",
    "omega_safe = 0.5*np.sqrt(g / L)\n",
    "\n",
    "# Dimensions and domains\n",
    "state_dim = 2\n",
    "action_dim = 1\n",
    "state_limits = np.array([[-1., 1.]]*state_dim)\n",
    "action_limits = np.array([[-1., 1.]]*action_dim)\n",
    "\n",
    "# True system\n",
    "true_pendulum = InvertedPendulum(m, L, b, dt, [state_norm, action_norm])\n",
    "A_true, B_true = true_pendulum.linearize()\n",
    "\n",
    "if USE_LINEAR_DYNAMICS:\n",
    "    true_dynamics = safe_learning.functions.LinearSystem((A_true, B_true), name='true_dynamics')\n",
    "else:\n",
    "    true_dynamics = true_pendulum.__call__"
   ]
  },
  {
   "cell_type": "markdown",
   "metadata": {},
   "source": [
    "## State Discretization"
   ]
  },
  {
   "cell_type": "code",
   "execution_count": null,
   "metadata": {},
   "outputs": [],
   "source": [
    "# Number of states along each dimension\n",
    "num_states = [1501, 1501]\n",
    "# num_states = [51,]*state_dim\n",
    "\n",
    "# State grid\n",
    "grid_limits = np.array([[-1., 1.], [-1., 1.]])\n",
    "state_discretization = safe_learning.GridWorld(grid_limits, num_states)\n",
    "\n",
    "# Discretization constant\n",
    "if USE_ZERO_THRESHOLD:\n",
    "    tau = 0.0\n",
    "else:\n",
    "    tau = np.sum(state_discretization.unit_maxes) / 2\n",
    "\n",
    "print('Grid size: {}'.format(state_discretization.nindex))\n",
    "print('Discretization constant: {}'.format(tau))"
   ]
  },
  {
   "cell_type": "markdown",
   "metadata": {},
   "source": [
    "## Cost Function"
   ]
  },
  {
   "cell_type": "code",
   "execution_count": null,
   "metadata": {},
   "outputs": [],
   "source": [
    "# State cost matrix\n",
    "Q = np.diag([1., 2.])\n",
    "\n",
    "# Action cost matrix\n",
    "R = 1.2*np.identity(action_dim)\n",
    "\n",
    "# Normalize cost matrices\n",
    "cost_norm = np.amax([Q.max(), R.max()])\n",
    "Q = Q / cost_norm\n",
    "R = R / cost_norm\n",
    "\n",
    "# Quadratic cost function\n",
    "cost_function = safe_learning.QuadraticFunction(block_diag(Q, R), name='cost_function')"
   ]
  },
  {
   "cell_type": "markdown",
   "metadata": {},
   "source": [
    "## Policy"
   ]
  },
  {
   "cell_type": "code",
   "execution_count": null,
   "metadata": {},
   "outputs": [],
   "source": [
    "# Fix policy to the LQR solution for the true system\n",
    "K, P = safe_learning.utilities.dlqr(A_true, B_true, Q, R)\n",
    "policy = safe_learning.LinearSystem(-K, name='policy')\n",
    "\n",
    "if SATURATE:\n",
    "    policy = safe_learning.Saturation(policy, -1, 1)\n",
    "    \n",
    "# TensorFlow variables\n",
    "tf_states = tf.placeholder(tf_dtype, shape=[None, state_dim], name='states')\n",
    "tf_actions = policy(tf_states)"
   ]
  },
  {
   "cell_type": "markdown",
   "metadata": {},
   "source": [
    "## Lyapunov Function"
   ]
  },
  {
   "cell_type": "code",
   "execution_count": null,
   "metadata": {},
   "outputs": [],
   "source": [
    "# Define the Lyapunov function corresponding to the known policy\n",
    "lyapunov_function = safe_learning.QuadraticFunction(P)\n",
    "grad_lyapunov_function = safe_learning.LinearSystem((2*P,))\n",
    "\n",
    "# Lipschitz constants\n",
    "L_pol = lambda s: tf.constant(np.linalg.norm(-K, 1), dtype=tf_dtype)\n",
    "L_dyn = lambda s: np.linalg.norm(A_true, 1) + np.linalg.norm(B_true, 1)*L_pol(s)\n",
    "\n",
    "if USE_LIPSCHITZ_SCALING:\n",
    "    L_v = lambda s: tf.abs(grad_lyapunov_function(s))\n",
    "else:\n",
    "    L_v = lambda s: tf.norm(grad_lyapunov_function(s), ord=1, axis=1, keep_dims=True)\n",
    "\n",
    "# Initialize class\n",
    "initial_safe_set = np.all(state_discretization.all_points == 0.0, axis=1)\n",
    "lyapunov = safe_learning.Lyapunov(state_discretization, lyapunov_function, true_dynamics, \n",
    "                                  L_dyn, L_v, tau, policy, initial_safe_set)"
   ]
  },
  {
   "cell_type": "code",
   "execution_count": null,
   "metadata": {},
   "outputs": [],
   "source": [
    "def plot_policy(lyapunov, tf_states, state_norm=None, show=True):\n",
    "    fig, ax = plt.subplots(1, 1, figsize=(6, 5), dpi=100)\n",
    "#     fig.subplots_adjust(wspace=0.4, hspace=0.2)\n",
    "    cmap = plt.get_cmap('viridis')\n",
    "    cmap.set_under('indigo')\n",
    "    cmap.set_over('gold')\n",
    "    ticks = np.linspace(-1., 1., 9)\n",
    "    cutoff = 1. - 1e-10\n",
    "    \n",
    "    if state_norm is not None:\n",
    "        theta_max, omega_max = state_norm\n",
    "        scale = np.array([np.rad2deg(theta_max), np.rad2deg(omega_max)]).reshape((-1, 1))\n",
    "        limits = scale * lyapunov.discretization.limits\n",
    "    else:\n",
    "        limits = lyapunov.discretization.limits\n",
    "    \n",
    "    z = session.run(lyapunov.policy(tf_states), feed_dict={tf_states: lyapunov.discretization.all_points})\n",
    "    z = z.reshape(lyapunov.discretization.num_points)\n",
    "    im = ax.imshow(z.T, \n",
    "                   origin='lower', \n",
    "                   extent=limits.ravel(), \n",
    "                   aspect=limits[0, 0] / limits[1, 0],\n",
    "                   cmap=cmap,\n",
    "                   vmin=-cutoff,\n",
    "                   vmax=cutoff)\n",
    "    cbar = fig.colorbar(im, ax=ax, label=r'$u = \\pi(x)$', ticks=ticks)\n",
    "    ax.set_xlabel(r'$\\theta$ [deg]')\n",
    "    ax.set_ylabel(r'$\\omega$ [deg/s]')\n",
    "    \n",
    "    if show:\n",
    "        plt.show()\n",
    "\n",
    "# Visualize policy\n",
    "plot_policy(lyapunov, tf_states, state_norm)"
   ]
  },
  {
   "cell_type": "markdown",
   "metadata": {},
   "source": [
    "## Initial Safe Set Visualization"
   ]
  },
  {
   "cell_type": "code",
   "execution_count": null,
   "metadata": {},
   "outputs": [],
   "source": [
    "# Compare safe set before and after checking the decrease condition for the first time\n",
    "c_max = lyapunov.feed_dict[lyapunov.c_max]\n",
    "init_safe_set_size = np.sum(lyapunov.safe_set)\n",
    "\n",
    "print('Before update ...')\n",
    "print('c_max: {}'.format(c_max))\n",
    "print('Safe set size: {}\\n'.format(init_safe_set_size))\n",
    "\n",
    "old_safe_set = np.copy(lyapunov.safe_set)\n",
    "lyapunov.update_safe_set()\n",
    "\n",
    "c_max = lyapunov.feed_dict[lyapunov.c_max]\n",
    "init_safe_set_size = np.sum(lyapunov.safe_set)\n",
    "\n",
    "print('After update ...')\n",
    "print('c_max: {}'.format(c_max))\n",
    "print('Safe set size: {}'.format(init_safe_set_size))\n",
    "\n",
    "debug(lyapunov, true_dynamics, state_norm, plot='pendulum')"
   ]
  },
  {
   "cell_type": "code",
   "execution_count": null,
   "metadata": {},
   "outputs": [],
   "source": [
    "# Identify shape matrix of suitable Lyapunov function\n",
    "print(P / lyapunov.feed_dict[lyapunov.c_max])"
   ]
  },
  {
   "cell_type": "markdown",
   "metadata": {},
   "source": [
    "## TODO"
   ]
  },
  {
   "cell_type": "code",
   "execution_count": null,
   "metadata": {},
   "outputs": [],
   "source": [
    "# M = cvx.Variable(2, 2, PSD=True)  # CVXPY 1.0\n",
    "M = cvx.Semidef(2)                # CVXPY 0.4\n",
    "\n",
    "# def quadratic(X, P, convention='cvx'):\n",
    "#     if convention=='cvx':\n",
    "#         linear_form = X * P\n",
    "#         quadratic = cvx.multiply(linear_form, X)\n",
    "#         result = cvx.sum(quadratic, axis=1, keepdims=True)\n",
    "#     else:\n",
    "#         linear_form = np.matmul(X, P)\n",
    "#         quadratic = linear_form * X\n",
    "#         result = np.sum(quadratic, axis=1, keepdims=True)\n",
    "#     return result\n",
    "\n",
    "def quadratic(X, P, convention='cvx'):\n",
    "    if convention=='cvx':\n",
    "        linear_form = X * P\n",
    "        quadratic = cvx.mul_elemwise(X, linear_form)\n",
    "        result = cvx.sum_entries(quadratic, axis=1)\n",
    "    else:\n",
    "        linear_form = np.matmul(X, P)\n",
    "        quadratic = np.multiply(linear_form, X)\n",
    "        result = np.sum(np.array(quadratic), axis=1, keepdims=True)\n",
    "    return result\n",
    "\n",
    "# Enforce decrease condition, excluding the initial safe set\n",
    "# safe = lyapunov.safe_set\n",
    "safe = np.logical_xor(lyapunov.safe_set, lyapunov.initial_safe_set)\n",
    "X = lyapunov.discretization.all_points[safe, :]\n",
    "\n",
    "# remove zero-state\n",
    "idx = ~np.all(X == 0, axis=1)\n",
    "X = X[idx]\n",
    "F = session.run(lyapunov.dynamics(tf_states, tf_actions), {tf_states: X})\n",
    "\n",
    "eps_mat = 1e-32\n",
    "eps_con = 1e-5\n",
    "\n",
    "obj = cvx.Minimize(cvx.trace(M))\n",
    "# obj = cvx.Maximize(- cvx.log(cvx.trace(M)))\n",
    "# obj = cvx.Maximize(- cvx.log_det(M))\n",
    "# obj = cvx.Minimize(- cvx.log_det(M))\n",
    "# print(obj.is_dcp())\n",
    "\n",
    "# constraints = [quadratic(F, M) - quadratic(X, M) <= -eps_con,\n",
    "#                M >> eps_mat]\n",
    "\n",
    "constraints = [quadratic(F, M) - quadratic(X, M) <= -eps_con,\n",
    "               cvx.lambda_min(M) >= eps_mat]\n",
    "\n",
    "mosek_params = {mosek.dparam.ana_sol_infeas_tol:     1e-32,  # print if a constraint violates more than this, 1e-6\n",
    "                mosek.dparam.intpnt_qo_tol_mu_red:   1e-12,  # relative complementarity gap feasibility tolerance, 1e-8\n",
    "                mosek.iparam.ana_sol_print_violated: True,\n",
    "               }\n",
    "\n",
    "prob = cvx.Problem(obj, constraints)\n",
    "result = prob.solve(solver=cvx.MOSEK,\n",
    "                    verbose=True,\n",
    "                    warm_start=False,\n",
    "                    mosek_params=mosek_params)\n",
    "\n",
    "print(\"\\nStatus:\", prob.status)\n",
    "print(\"Optimal objective value:\", prob.value)\n",
    "print(\"Optimal variable value:\\n\", M.value)\n",
    "print('\\nEigenvalues:', np.linalg.eigvals(M.value))"
   ]
  },
  {
   "cell_type": "code",
   "execution_count": null,
   "metadata": {},
   "outputs": [],
   "source": [
    "z = quadratic(F, M.value, 'np') - quadratic(X, M.value, 'np') <= -eps_con\n",
    "idx = ~z.ravel()\n",
    "\n",
    "vals = quadratic(F[idx, :], M.value, 'np') - quadratic(X[idx, :], M.value, 'np')\n",
    "\n",
    "print('Previously safe states, now unsafe:\\n', X[idx, :])\n",
    "\n",
    "print(vals)"
   ]
  },
  {
   "cell_type": "code",
   "execution_count": null,
   "metadata": {},
   "outputs": [],
   "source": [
    "# Scale new cost function to compare with the old one\n",
    "P_new = P.max() * M.value / M.value.max()\n",
    "print('Previous cost matrix:\\n{}\\n'.format(P))\n",
    "print('Computed cost matrix:\\n{}\\n'.format(P_new))\n",
    "print('Ratio:\\n{}\\n'.format(P_new / P))\n",
    "\n",
    "lyapunov_function = safe_learning.QuadraticFunction(P_new)\n",
    "grad_lyapunov_function = safe_learning.LinearSystem((2*P_new,))\n",
    "\n",
    "if USE_LIPSCHITZ_SCALING:\n",
    "    L_v = lambda s: tf.abs(grad_lyapunov_function(s))\n",
    "else:\n",
    "    L_v = lambda s: tf.norm(grad_lyapunov_function(s), ord=1, axis=1, keep_dims=True)\n",
    "\n",
    "initial_safe_set = np.all(state_discretization.all_points == 0.0, axis=1)\n",
    "new_lyapunov = safe_learning.Lyapunov(state_discretization, lyapunov_function, true_dynamics, \n",
    "                                      L_dyn, L_v, tau, policy, initial_safe_set)\n",
    "new_lyapunov.update_safe_set()"
   ]
  },
  {
   "cell_type": "code",
   "execution_count": null,
   "metadata": {},
   "outputs": [],
   "source": [
    "debug(lyapunov, true_dynamics, state_norm, plot='pendulum')\n",
    "debug(new_lyapunov, true_dynamics, state_norm, plot='pendulum')"
   ]
  },
  {
   "cell_type": "code",
   "execution_count": null,
   "metadata": {},
   "outputs": [],
   "source": []
  }
 ],
 "metadata": {
  "kernelspec": {
   "display_name": "Python 3",
   "language": "python",
   "name": "python3"
  },
  "language_info": {
   "codemirror_mode": {
    "name": "ipython",
    "version": 3
   },
   "file_extension": ".py",
   "mimetype": "text/x-python",
   "name": "python",
   "nbconvert_exporter": "python",
   "pygments_lexer": "ipython3",
   "version": "3.6.4"
  }
 },
 "nbformat": 4,
 "nbformat_minor": 2
}
